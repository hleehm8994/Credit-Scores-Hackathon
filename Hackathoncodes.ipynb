{
 "cells": [
  {
   "cell_type": "code",
   "execution_count": 1,
   "id": "9cc08a3c",
   "metadata": {},
   "outputs": [],
   "source": [
    "import pandas as pd\n",
    "import numpy as np\n",
    "import matplotlib as mp\n",
    "from matplotlib import pyplot as plt"
   ]
  },
  {
   "cell_type": "code",
   "execution_count": 2,
   "id": "000139bb",
   "metadata": {},
   "outputs": [],
   "source": [
    "# Open the file\n",
    "df = pd.read_csv ('creditscores_dataset.csv')"
   ]
  },
  {
   "cell_type": "markdown",
   "id": "f857abde",
   "metadata": {},
   "source": [
    "# Data Exploratory"
   ]
  },
  {
   "cell_type": "code",
   "execution_count": 3,
   "id": "dc02f581",
   "metadata": {},
   "outputs": [
    {
     "data": {
      "text/html": [
       "<div>\n",
       "<style scoped>\n",
       "    .dataframe tbody tr th:only-of-type {\n",
       "        vertical-align: middle;\n",
       "    }\n",
       "\n",
       "    .dataframe tbody tr th {\n",
       "        vertical-align: top;\n",
       "    }\n",
       "\n",
       "    .dataframe thead th {\n",
       "        text-align: right;\n",
       "    }\n",
       "</style>\n",
       "<table border=\"1\" class=\"dataframe\">\n",
       "  <thead>\n",
       "    <tr style=\"text-align: right;\">\n",
       "      <th></th>\n",
       "      <th>Years of Education after High School</th>\n",
       "      <th>Requested Credit Amount</th>\n",
       "      <th>Number of Dependents</th>\n",
       "      <th>Monthly Income</th>\n",
       "      <th>Monthly Expense</th>\n",
       "      <th>Marital Status</th>\n",
       "      <th>Credit Rating</th>\n",
       "    </tr>\n",
       "  </thead>\n",
       "  <tbody>\n",
       "    <tr>\n",
       "      <th>0</th>\n",
       "      <td>1</td>\n",
       "      <td>Low</td>\n",
       "      <td>No dependent</td>\n",
       "      <td>Very low</td>\n",
       "      <td>Very low</td>\n",
       "      <td>Married</td>\n",
       "      <td>Positive</td>\n",
       "    </tr>\n",
       "    <tr>\n",
       "      <th>1</th>\n",
       "      <td>2</td>\n",
       "      <td>Low</td>\n",
       "      <td>No dependent</td>\n",
       "      <td>Very low</td>\n",
       "      <td>Very low</td>\n",
       "      <td>Single</td>\n",
       "      <td>Positive</td>\n",
       "    </tr>\n",
       "    <tr>\n",
       "      <th>2</th>\n",
       "      <td>1</td>\n",
       "      <td>Low</td>\n",
       "      <td>No dependent</td>\n",
       "      <td>Very low</td>\n",
       "      <td>Very low</td>\n",
       "      <td>Single</td>\n",
       "      <td>Positive</td>\n",
       "    </tr>\n",
       "    <tr>\n",
       "      <th>3</th>\n",
       "      <td>3</td>\n",
       "      <td>Low</td>\n",
       "      <td>No dependent</td>\n",
       "      <td>Very low</td>\n",
       "      <td>Very low</td>\n",
       "      <td>Married</td>\n",
       "      <td>Positive</td>\n",
       "    </tr>\n",
       "    <tr>\n",
       "      <th>4</th>\n",
       "      <td>3</td>\n",
       "      <td>Low</td>\n",
       "      <td>No dependent</td>\n",
       "      <td>Very low</td>\n",
       "      <td>Very low</td>\n",
       "      <td>Single</td>\n",
       "      <td>Negative</td>\n",
       "    </tr>\n",
       "  </tbody>\n",
       "</table>\n",
       "</div>"
      ],
      "text/plain": [
       "   Years of Education after High School Requested Credit Amount  \\\n",
       "0                                     1                     Low   \n",
       "1                                     2                     Low   \n",
       "2                                     1                     Low   \n",
       "3                                     3                     Low   \n",
       "4                                     3                     Low   \n",
       "\n",
       "  Number of Dependents Monthly Income Monthly Expense Marital Status  \\\n",
       "0         No dependent       Very low        Very low        Married   \n",
       "1         No dependent       Very low        Very low         Single   \n",
       "2         No dependent       Very low        Very low         Single   \n",
       "3         No dependent       Very low        Very low        Married   \n",
       "4         No dependent       Very low        Very low         Single   \n",
       "\n",
       "  Credit Rating  \n",
       "0      Positive  \n",
       "1      Positive  \n",
       "2      Positive  \n",
       "3      Positive  \n",
       "4      Negative  "
      ]
     },
     "execution_count": 3,
     "metadata": {},
     "output_type": "execute_result"
    }
   ],
   "source": [
    "df.head()"
   ]
  },
  {
   "cell_type": "code",
   "execution_count": 4,
   "id": "70e9d022",
   "metadata": {},
   "outputs": [
    {
     "data": {
      "text/html": [
       "<div>\n",
       "<style scoped>\n",
       "    .dataframe tbody tr th:only-of-type {\n",
       "        vertical-align: middle;\n",
       "    }\n",
       "\n",
       "    .dataframe tbody tr th {\n",
       "        vertical-align: top;\n",
       "    }\n",
       "\n",
       "    .dataframe thead th {\n",
       "        text-align: right;\n",
       "    }\n",
       "</style>\n",
       "<table border=\"1\" class=\"dataframe\">\n",
       "  <thead>\n",
       "    <tr style=\"text-align: right;\">\n",
       "      <th></th>\n",
       "      <th>Years of Education after High School</th>\n",
       "      <th>Requested Credit Amount</th>\n",
       "      <th>Number of Dependents</th>\n",
       "      <th>Monthly Income</th>\n",
       "      <th>Monthly Expense</th>\n",
       "      <th>Marital Status</th>\n",
       "      <th>Credit Rating</th>\n",
       "    </tr>\n",
       "  </thead>\n",
       "  <tbody>\n",
       "    <tr>\n",
       "      <th>8076</th>\n",
       "      <td>3</td>\n",
       "      <td>Low</td>\n",
       "      <td>Less than 2</td>\n",
       "      <td>Very High</td>\n",
       "      <td>Very high</td>\n",
       "      <td>Married</td>\n",
       "      <td>Positive</td>\n",
       "    </tr>\n",
       "    <tr>\n",
       "      <th>8077</th>\n",
       "      <td>3</td>\n",
       "      <td>Medium</td>\n",
       "      <td>Less than 2</td>\n",
       "      <td>Very High</td>\n",
       "      <td>Very high</td>\n",
       "      <td>Married</td>\n",
       "      <td>Negative</td>\n",
       "    </tr>\n",
       "    <tr>\n",
       "      <th>8078</th>\n",
       "      <td>3</td>\n",
       "      <td>Medium</td>\n",
       "      <td>More than 2</td>\n",
       "      <td>Very High</td>\n",
       "      <td>Very high</td>\n",
       "      <td>Married</td>\n",
       "      <td>Positive</td>\n",
       "    </tr>\n",
       "    <tr>\n",
       "      <th>8079</th>\n",
       "      <td>7</td>\n",
       "      <td>Medium</td>\n",
       "      <td>Less than 2</td>\n",
       "      <td>Very High</td>\n",
       "      <td>Very high</td>\n",
       "      <td>Married</td>\n",
       "      <td>Positive</td>\n",
       "    </tr>\n",
       "    <tr>\n",
       "      <th>8080</th>\n",
       "      <td>3</td>\n",
       "      <td>Medium</td>\n",
       "      <td>Less than 2</td>\n",
       "      <td>Very High</td>\n",
       "      <td>Very high</td>\n",
       "      <td>Married</td>\n",
       "      <td>Positive</td>\n",
       "    </tr>\n",
       "  </tbody>\n",
       "</table>\n",
       "</div>"
      ],
      "text/plain": [
       "      Years of Education after High School Requested Credit Amount  \\\n",
       "8076                                     3                     Low   \n",
       "8077                                     3                  Medium   \n",
       "8078                                     3                  Medium   \n",
       "8079                                     7                  Medium   \n",
       "8080                                     3                  Medium   \n",
       "\n",
       "     Number of Dependents Monthly Income Monthly Expense Marital Status  \\\n",
       "8076          Less than 2      Very High       Very high        Married   \n",
       "8077          Less than 2      Very High       Very high        Married   \n",
       "8078          More than 2      Very High       Very high        Married   \n",
       "8079          Less than 2      Very High       Very high        Married   \n",
       "8080          Less than 2      Very High       Very high        Married   \n",
       "\n",
       "     Credit Rating  \n",
       "8076      Positive  \n",
       "8077      Negative  \n",
       "8078      Positive  \n",
       "8079      Positive  \n",
       "8080      Positive  "
      ]
     },
     "execution_count": 4,
     "metadata": {},
     "output_type": "execute_result"
    }
   ],
   "source": [
    "df.tail()"
   ]
  },
  {
   "cell_type": "code",
   "execution_count": 5,
   "id": "8abd0def",
   "metadata": {},
   "outputs": [
    {
     "data": {
      "text/html": [
       "<div>\n",
       "<style scoped>\n",
       "    .dataframe tbody tr th:only-of-type {\n",
       "        vertical-align: middle;\n",
       "    }\n",
       "\n",
       "    .dataframe tbody tr th {\n",
       "        vertical-align: top;\n",
       "    }\n",
       "\n",
       "    .dataframe thead th {\n",
       "        text-align: right;\n",
       "    }\n",
       "</style>\n",
       "<table border=\"1\" class=\"dataframe\">\n",
       "  <thead>\n",
       "    <tr style=\"text-align: right;\">\n",
       "      <th></th>\n",
       "      <th>Years of Education after High School</th>\n",
       "    </tr>\n",
       "  </thead>\n",
       "  <tbody>\n",
       "    <tr>\n",
       "      <th>count</th>\n",
       "      <td>8081.000000</td>\n",
       "    </tr>\n",
       "    <tr>\n",
       "      <th>mean</th>\n",
       "      <td>2.608588</td>\n",
       "    </tr>\n",
       "    <tr>\n",
       "      <th>std</th>\n",
       "      <td>1.571835</td>\n",
       "    </tr>\n",
       "    <tr>\n",
       "      <th>min</th>\n",
       "      <td>0.000000</td>\n",
       "    </tr>\n",
       "    <tr>\n",
       "      <th>25%</th>\n",
       "      <td>1.000000</td>\n",
       "    </tr>\n",
       "    <tr>\n",
       "      <th>50%</th>\n",
       "      <td>3.000000</td>\n",
       "    </tr>\n",
       "    <tr>\n",
       "      <th>75%</th>\n",
       "      <td>3.000000</td>\n",
       "    </tr>\n",
       "    <tr>\n",
       "      <th>max</th>\n",
       "      <td>7.000000</td>\n",
       "    </tr>\n",
       "  </tbody>\n",
       "</table>\n",
       "</div>"
      ],
      "text/plain": [
       "       Years of Education after High School\n",
       "count                           8081.000000\n",
       "mean                               2.608588\n",
       "std                                1.571835\n",
       "min                                0.000000\n",
       "25%                                1.000000\n",
       "50%                                3.000000\n",
       "75%                                3.000000\n",
       "max                                7.000000"
      ]
     },
     "execution_count": 5,
     "metadata": {},
     "output_type": "execute_result"
    }
   ],
   "source": [
    "df.describe()"
   ]
  },
  {
   "cell_type": "code",
   "execution_count": 6,
   "id": "80a75b1d",
   "metadata": {},
   "outputs": [
    {
     "name": "stdout",
     "output_type": "stream",
     "text": [
      "<class 'pandas.core.frame.DataFrame'>\n",
      "RangeIndex: 8081 entries, 0 to 8080\n",
      "Data columns (total 7 columns):\n",
      " #   Column                                Non-Null Count  Dtype \n",
      "---  ------                                --------------  ----- \n",
      " 0   Years of Education after High School  8081 non-null   int64 \n",
      " 1   Requested Credit Amount               8081 non-null   object\n",
      " 2   Number of Dependents                  8081 non-null   object\n",
      " 3   Monthly Income                        8081 non-null   object\n",
      " 4   Monthly Expense                       8081 non-null   object\n",
      " 5   Marital Status                        8081 non-null   object\n",
      " 6   Credit Rating                         8081 non-null   object\n",
      "dtypes: int64(1), object(6)\n",
      "memory usage: 442.1+ KB\n"
     ]
    }
   ],
   "source": [
    "df.info()"
   ]
  },
  {
   "cell_type": "markdown",
   "id": "4eeec8b8",
   "metadata": {},
   "source": [
    "Create Dummy Variables"
   ]
  },
  {
   "cell_type": "code",
   "execution_count": 7,
   "id": "bdf869a7",
   "metadata": {},
   "outputs": [
    {
     "name": "stderr",
     "output_type": "stream",
     "text": [
      "/var/folders/3d/vjnlw6gj0vs9bchhz783z9_80000gn/T/ipykernel_1719/1787410959.py:2: SettingWithCopyWarning: \n",
      "A value is trying to be set on a copy of a slice from a DataFrame\n",
      "\n",
      "See the caveats in the documentation: https://pandas.pydata.org/pandas-docs/stable/user_guide/indexing.html#returning-a-view-versus-a-copy\n",
      "  df['Credit Rating'][df['Credit Rating'] == 'Positive'] = 1\n",
      "/var/folders/3d/vjnlw6gj0vs9bchhz783z9_80000gn/T/ipykernel_1719/1787410959.py:3: SettingWithCopyWarning: \n",
      "A value is trying to be set on a copy of a slice from a DataFrame\n",
      "\n",
      "See the caveats in the documentation: https://pandas.pydata.org/pandas-docs/stable/user_guide/indexing.html#returning-a-view-versus-a-copy\n",
      "  df['Credit Rating'][df['Credit Rating'] == 'Negative'] = 0\n"
     ]
    }
   ],
   "source": [
    "# Change Credit Rating to 1 and 0\n",
    "df['Credit Rating'][df['Credit Rating'] == 'Positive'] = 1\n",
    "df['Credit Rating'][df['Credit Rating'] == 'Negative'] = 0\n",
    "\n",
    "# Create Dummy Variables for Req. Credit Amount\n",
    "dummy1 = pd.get_dummies(df['Requested Credit Amount']).rename(columns =\n",
    "                            {\"High\": \"High Credit Amt\", \"Medium\": \"Medium Credit Amt\", \"Low\": \"Low Credit Amt\"})\n",
    "df = pd.concat([df,dummy1],axis = 1)\n",
    "\n",
    "# Create Dummy Variables for Marital Status\n",
    "dummy2 = pd.get_dummies(df['Marital Status']).rename(columns =\n",
    "                            {\"Not specified\": \"Marriage Not Specified\"})\n",
    "df = pd.concat([df,dummy2],axis = 1)\n",
    "\n",
    "# Create Dummy Variables for Number of Dependents\n",
    "dummy3 = pd.get_dummies(df['Number of Dependents']).rename(columns =\n",
    "                            {\"More than 2\": \"More than two dependents\", \"Less than 2\": \"Less than two dependents\",\n",
    "                            \"No dependent\": \"No dependent\"})\n",
    "df = pd.concat([df,dummy3],axis = 1)\n",
    "\n",
    "# Create Dummy Variables for Monthly Income\n",
    "dummy4 = pd.get_dummies(df['Monthly Income']).rename(columns =\n",
    "                            {\"Very High\": \"Very High Monthly Income\", \"High\": \"High Monthly Income\",\n",
    "                            \"Moderate\": \"Moderate Monthly Income\", \"Low\": \"Low Monthly Income\",\n",
    "                            \"Very low\": \"Very Low Monthly Income\"})\n",
    "df = pd.concat([df,dummy4],axis = 1)\n",
    "\n",
    "# Create Dummy Variables for Monthly Expense\n",
    "dummy5 = pd.get_dummies(df['Monthly Expense']).rename(columns =\n",
    "                            {\"Very high\": \"Very High Monthly Expense\", \"High\": \"High Monthly Expense\",\n",
    "                            \"Moderate\": \"Moderate Monthly Expense\", \"Low\": \"Low Monthly Expense\",\n",
    "                            \"Very low\": \"Very Low Monthly Expense\"})\n",
    "df = pd.concat([df,dummy5],axis = 1)"
   ]
  },
  {
   "cell_type": "code",
   "execution_count": 8,
   "id": "aa82ed68",
   "metadata": {},
   "outputs": [],
   "source": [
    "df.drop(columns = [\"Requested Credit Amount\"], inplace = True)\n",
    "df.drop(columns = [\"Marital Status\"], inplace = True)\n",
    "df.drop(columns = [\"Number of Dependents\"], inplace = True)\n",
    "df.drop(columns = [\"Monthly Income\"], inplace = True)\n",
    "df.drop(columns = [\"Monthly Expense\"], inplace = True)"
   ]
  },
  {
   "cell_type": "code",
   "execution_count": 9,
   "id": "2240290f",
   "metadata": {},
   "outputs": [
    {
     "data": {
      "text/html": [
       "<div>\n",
       "<style scoped>\n",
       "    .dataframe tbody tr th:only-of-type {\n",
       "        vertical-align: middle;\n",
       "    }\n",
       "\n",
       "    .dataframe tbody tr th {\n",
       "        vertical-align: top;\n",
       "    }\n",
       "\n",
       "    .dataframe thead th {\n",
       "        text-align: right;\n",
       "    }\n",
       "</style>\n",
       "<table border=\"1\" class=\"dataframe\">\n",
       "  <thead>\n",
       "    <tr style=\"text-align: right;\">\n",
       "      <th></th>\n",
       "      <th>Years of Education after High School</th>\n",
       "      <th>Credit Rating</th>\n",
       "      <th>High Credit Amt</th>\n",
       "      <th>Low Credit Amt</th>\n",
       "      <th>Medium Credit Amt</th>\n",
       "      <th>Married</th>\n",
       "      <th>Marriage Not Specified</th>\n",
       "      <th>Single</th>\n",
       "      <th>Less than two dependents</th>\n",
       "      <th>More than two dependents</th>\n",
       "      <th>...</th>\n",
       "      <th>High Monthly Income</th>\n",
       "      <th>Low Monthly Income</th>\n",
       "      <th>Moderate Monthly Income</th>\n",
       "      <th>Very High Monthly Income</th>\n",
       "      <th>Very Low Monthly Income</th>\n",
       "      <th>High Monthly Expense</th>\n",
       "      <th>Low Monthly Expense</th>\n",
       "      <th>Moderate Monthly Expense</th>\n",
       "      <th>Very High Monthly Expense</th>\n",
       "      <th>Very Low Monthly Expense</th>\n",
       "    </tr>\n",
       "  </thead>\n",
       "  <tbody>\n",
       "    <tr>\n",
       "      <th>0</th>\n",
       "      <td>1</td>\n",
       "      <td>1</td>\n",
       "      <td>0</td>\n",
       "      <td>1</td>\n",
       "      <td>0</td>\n",
       "      <td>1</td>\n",
       "      <td>0</td>\n",
       "      <td>0</td>\n",
       "      <td>0</td>\n",
       "      <td>0</td>\n",
       "      <td>...</td>\n",
       "      <td>0</td>\n",
       "      <td>0</td>\n",
       "      <td>0</td>\n",
       "      <td>0</td>\n",
       "      <td>1</td>\n",
       "      <td>0</td>\n",
       "      <td>0</td>\n",
       "      <td>0</td>\n",
       "      <td>0</td>\n",
       "      <td>1</td>\n",
       "    </tr>\n",
       "    <tr>\n",
       "      <th>1</th>\n",
       "      <td>2</td>\n",
       "      <td>1</td>\n",
       "      <td>0</td>\n",
       "      <td>1</td>\n",
       "      <td>0</td>\n",
       "      <td>0</td>\n",
       "      <td>0</td>\n",
       "      <td>1</td>\n",
       "      <td>0</td>\n",
       "      <td>0</td>\n",
       "      <td>...</td>\n",
       "      <td>0</td>\n",
       "      <td>0</td>\n",
       "      <td>0</td>\n",
       "      <td>0</td>\n",
       "      <td>1</td>\n",
       "      <td>0</td>\n",
       "      <td>0</td>\n",
       "      <td>0</td>\n",
       "      <td>0</td>\n",
       "      <td>1</td>\n",
       "    </tr>\n",
       "    <tr>\n",
       "      <th>2</th>\n",
       "      <td>1</td>\n",
       "      <td>1</td>\n",
       "      <td>0</td>\n",
       "      <td>1</td>\n",
       "      <td>0</td>\n",
       "      <td>0</td>\n",
       "      <td>0</td>\n",
       "      <td>1</td>\n",
       "      <td>0</td>\n",
       "      <td>0</td>\n",
       "      <td>...</td>\n",
       "      <td>0</td>\n",
       "      <td>0</td>\n",
       "      <td>0</td>\n",
       "      <td>0</td>\n",
       "      <td>1</td>\n",
       "      <td>0</td>\n",
       "      <td>0</td>\n",
       "      <td>0</td>\n",
       "      <td>0</td>\n",
       "      <td>1</td>\n",
       "    </tr>\n",
       "    <tr>\n",
       "      <th>3</th>\n",
       "      <td>3</td>\n",
       "      <td>1</td>\n",
       "      <td>0</td>\n",
       "      <td>1</td>\n",
       "      <td>0</td>\n",
       "      <td>1</td>\n",
       "      <td>0</td>\n",
       "      <td>0</td>\n",
       "      <td>0</td>\n",
       "      <td>0</td>\n",
       "      <td>...</td>\n",
       "      <td>0</td>\n",
       "      <td>0</td>\n",
       "      <td>0</td>\n",
       "      <td>0</td>\n",
       "      <td>1</td>\n",
       "      <td>0</td>\n",
       "      <td>0</td>\n",
       "      <td>0</td>\n",
       "      <td>0</td>\n",
       "      <td>1</td>\n",
       "    </tr>\n",
       "    <tr>\n",
       "      <th>4</th>\n",
       "      <td>3</td>\n",
       "      <td>0</td>\n",
       "      <td>0</td>\n",
       "      <td>1</td>\n",
       "      <td>0</td>\n",
       "      <td>0</td>\n",
       "      <td>0</td>\n",
       "      <td>1</td>\n",
       "      <td>0</td>\n",
       "      <td>0</td>\n",
       "      <td>...</td>\n",
       "      <td>0</td>\n",
       "      <td>0</td>\n",
       "      <td>0</td>\n",
       "      <td>0</td>\n",
       "      <td>1</td>\n",
       "      <td>0</td>\n",
       "      <td>0</td>\n",
       "      <td>0</td>\n",
       "      <td>0</td>\n",
       "      <td>1</td>\n",
       "    </tr>\n",
       "  </tbody>\n",
       "</table>\n",
       "<p>5 rows × 21 columns</p>\n",
       "</div>"
      ],
      "text/plain": [
       "   Years of Education after High School Credit Rating  High Credit Amt  \\\n",
       "0                                     1             1                0   \n",
       "1                                     2             1                0   \n",
       "2                                     1             1                0   \n",
       "3                                     3             1                0   \n",
       "4                                     3             0                0   \n",
       "\n",
       "   Low Credit Amt  Medium Credit Amt  Married  Marriage Not Specified  Single  \\\n",
       "0               1                  0        1                       0       0   \n",
       "1               1                  0        0                       0       1   \n",
       "2               1                  0        0                       0       1   \n",
       "3               1                  0        1                       0       0   \n",
       "4               1                  0        0                       0       1   \n",
       "\n",
       "   Less than two dependents  More than two dependents  ...  \\\n",
       "0                         0                         0  ...   \n",
       "1                         0                         0  ...   \n",
       "2                         0                         0  ...   \n",
       "3                         0                         0  ...   \n",
       "4                         0                         0  ...   \n",
       "\n",
       "   High Monthly Income  Low Monthly Income  Moderate Monthly Income  \\\n",
       "0                    0                   0                        0   \n",
       "1                    0                   0                        0   \n",
       "2                    0                   0                        0   \n",
       "3                    0                   0                        0   \n",
       "4                    0                   0                        0   \n",
       "\n",
       "   Very High Monthly Income  Very Low Monthly Income  High Monthly Expense  \\\n",
       "0                         0                        1                     0   \n",
       "1                         0                        1                     0   \n",
       "2                         0                        1                     0   \n",
       "3                         0                        1                     0   \n",
       "4                         0                        1                     0   \n",
       "\n",
       "   Low Monthly Expense  Moderate Monthly Expense  Very High Monthly Expense  \\\n",
       "0                    0                         0                          0   \n",
       "1                    0                         0                          0   \n",
       "2                    0                         0                          0   \n",
       "3                    0                         0                          0   \n",
       "4                    0                         0                          0   \n",
       "\n",
       "   Very Low Monthly Expense  \n",
       "0                         1  \n",
       "1                         1  \n",
       "2                         1  \n",
       "3                         1  \n",
       "4                         1  \n",
       "\n",
       "[5 rows x 21 columns]"
      ]
     },
     "execution_count": 9,
     "metadata": {},
     "output_type": "execute_result"
    }
   ],
   "source": [
    "df.head()"
   ]
  },
  {
   "cell_type": "code",
   "execution_count": 10,
   "id": "17e21f90",
   "metadata": {},
   "outputs": [
    {
     "data": {
      "text/html": [
       "<div>\n",
       "<style scoped>\n",
       "    .dataframe tbody tr th:only-of-type {\n",
       "        vertical-align: middle;\n",
       "    }\n",
       "\n",
       "    .dataframe tbody tr th {\n",
       "        vertical-align: top;\n",
       "    }\n",
       "\n",
       "    .dataframe thead th {\n",
       "        text-align: right;\n",
       "    }\n",
       "</style>\n",
       "<table border=\"1\" class=\"dataframe\">\n",
       "  <thead>\n",
       "    <tr style=\"text-align: right;\">\n",
       "      <th></th>\n",
       "      <th>Years of Education after High School</th>\n",
       "      <th>Credit Rating</th>\n",
       "      <th>High Credit Amt</th>\n",
       "      <th>Low Credit Amt</th>\n",
       "      <th>Medium Credit Amt</th>\n",
       "      <th>Married</th>\n",
       "      <th>Marriage Not Specified</th>\n",
       "      <th>Single</th>\n",
       "      <th>Less than two dependents</th>\n",
       "      <th>More than two dependents</th>\n",
       "      <th>...</th>\n",
       "      <th>High Monthly Income</th>\n",
       "      <th>Low Monthly Income</th>\n",
       "      <th>Moderate Monthly Income</th>\n",
       "      <th>Very High Monthly Income</th>\n",
       "      <th>Very Low Monthly Income</th>\n",
       "      <th>High Monthly Expense</th>\n",
       "      <th>Low Monthly Expense</th>\n",
       "      <th>Moderate Monthly Expense</th>\n",
       "      <th>Very High Monthly Expense</th>\n",
       "      <th>Very Low Monthly Expense</th>\n",
       "    </tr>\n",
       "  </thead>\n",
       "  <tbody>\n",
       "    <tr>\n",
       "      <th>8076</th>\n",
       "      <td>3</td>\n",
       "      <td>1</td>\n",
       "      <td>0</td>\n",
       "      <td>1</td>\n",
       "      <td>0</td>\n",
       "      <td>1</td>\n",
       "      <td>0</td>\n",
       "      <td>0</td>\n",
       "      <td>1</td>\n",
       "      <td>0</td>\n",
       "      <td>...</td>\n",
       "      <td>0</td>\n",
       "      <td>0</td>\n",
       "      <td>0</td>\n",
       "      <td>1</td>\n",
       "      <td>0</td>\n",
       "      <td>0</td>\n",
       "      <td>0</td>\n",
       "      <td>0</td>\n",
       "      <td>1</td>\n",
       "      <td>0</td>\n",
       "    </tr>\n",
       "    <tr>\n",
       "      <th>8077</th>\n",
       "      <td>3</td>\n",
       "      <td>0</td>\n",
       "      <td>0</td>\n",
       "      <td>0</td>\n",
       "      <td>1</td>\n",
       "      <td>1</td>\n",
       "      <td>0</td>\n",
       "      <td>0</td>\n",
       "      <td>1</td>\n",
       "      <td>0</td>\n",
       "      <td>...</td>\n",
       "      <td>0</td>\n",
       "      <td>0</td>\n",
       "      <td>0</td>\n",
       "      <td>1</td>\n",
       "      <td>0</td>\n",
       "      <td>0</td>\n",
       "      <td>0</td>\n",
       "      <td>0</td>\n",
       "      <td>1</td>\n",
       "      <td>0</td>\n",
       "    </tr>\n",
       "    <tr>\n",
       "      <th>8078</th>\n",
       "      <td>3</td>\n",
       "      <td>1</td>\n",
       "      <td>0</td>\n",
       "      <td>0</td>\n",
       "      <td>1</td>\n",
       "      <td>1</td>\n",
       "      <td>0</td>\n",
       "      <td>0</td>\n",
       "      <td>0</td>\n",
       "      <td>1</td>\n",
       "      <td>...</td>\n",
       "      <td>0</td>\n",
       "      <td>0</td>\n",
       "      <td>0</td>\n",
       "      <td>1</td>\n",
       "      <td>0</td>\n",
       "      <td>0</td>\n",
       "      <td>0</td>\n",
       "      <td>0</td>\n",
       "      <td>1</td>\n",
       "      <td>0</td>\n",
       "    </tr>\n",
       "    <tr>\n",
       "      <th>8079</th>\n",
       "      <td>7</td>\n",
       "      <td>1</td>\n",
       "      <td>0</td>\n",
       "      <td>0</td>\n",
       "      <td>1</td>\n",
       "      <td>1</td>\n",
       "      <td>0</td>\n",
       "      <td>0</td>\n",
       "      <td>1</td>\n",
       "      <td>0</td>\n",
       "      <td>...</td>\n",
       "      <td>0</td>\n",
       "      <td>0</td>\n",
       "      <td>0</td>\n",
       "      <td>1</td>\n",
       "      <td>0</td>\n",
       "      <td>0</td>\n",
       "      <td>0</td>\n",
       "      <td>0</td>\n",
       "      <td>1</td>\n",
       "      <td>0</td>\n",
       "    </tr>\n",
       "    <tr>\n",
       "      <th>8080</th>\n",
       "      <td>3</td>\n",
       "      <td>1</td>\n",
       "      <td>0</td>\n",
       "      <td>0</td>\n",
       "      <td>1</td>\n",
       "      <td>1</td>\n",
       "      <td>0</td>\n",
       "      <td>0</td>\n",
       "      <td>1</td>\n",
       "      <td>0</td>\n",
       "      <td>...</td>\n",
       "      <td>0</td>\n",
       "      <td>0</td>\n",
       "      <td>0</td>\n",
       "      <td>1</td>\n",
       "      <td>0</td>\n",
       "      <td>0</td>\n",
       "      <td>0</td>\n",
       "      <td>0</td>\n",
       "      <td>1</td>\n",
       "      <td>0</td>\n",
       "    </tr>\n",
       "  </tbody>\n",
       "</table>\n",
       "<p>5 rows × 21 columns</p>\n",
       "</div>"
      ],
      "text/plain": [
       "      Years of Education after High School Credit Rating  High Credit Amt  \\\n",
       "8076                                     3             1                0   \n",
       "8077                                     3             0                0   \n",
       "8078                                     3             1                0   \n",
       "8079                                     7             1                0   \n",
       "8080                                     3             1                0   \n",
       "\n",
       "      Low Credit Amt  Medium Credit Amt  Married  Marriage Not Specified  \\\n",
       "8076               1                  0        1                       0   \n",
       "8077               0                  1        1                       0   \n",
       "8078               0                  1        1                       0   \n",
       "8079               0                  1        1                       0   \n",
       "8080               0                  1        1                       0   \n",
       "\n",
       "      Single  Less than two dependents  More than two dependents  ...  \\\n",
       "8076       0                         1                         0  ...   \n",
       "8077       0                         1                         0  ...   \n",
       "8078       0                         0                         1  ...   \n",
       "8079       0                         1                         0  ...   \n",
       "8080       0                         1                         0  ...   \n",
       "\n",
       "      High Monthly Income  Low Monthly Income  Moderate Monthly Income  \\\n",
       "8076                    0                   0                        0   \n",
       "8077                    0                   0                        0   \n",
       "8078                    0                   0                        0   \n",
       "8079                    0                   0                        0   \n",
       "8080                    0                   0                        0   \n",
       "\n",
       "      Very High Monthly Income  Very Low Monthly Income  High Monthly Expense  \\\n",
       "8076                         1                        0                     0   \n",
       "8077                         1                        0                     0   \n",
       "8078                         1                        0                     0   \n",
       "8079                         1                        0                     0   \n",
       "8080                         1                        0                     0   \n",
       "\n",
       "      Low Monthly Expense  Moderate Monthly Expense  \\\n",
       "8076                    0                         0   \n",
       "8077                    0                         0   \n",
       "8078                    0                         0   \n",
       "8079                    0                         0   \n",
       "8080                    0                         0   \n",
       "\n",
       "      Very High Monthly Expense  Very Low Monthly Expense  \n",
       "8076                          1                         0  \n",
       "8077                          1                         0  \n",
       "8078                          1                         0  \n",
       "8079                          1                         0  \n",
       "8080                          1                         0  \n",
       "\n",
       "[5 rows x 21 columns]"
      ]
     },
     "execution_count": 10,
     "metadata": {},
     "output_type": "execute_result"
    }
   ],
   "source": [
    "df.tail()"
   ]
  },
  {
   "cell_type": "code",
   "execution_count": 11,
   "id": "0719e025",
   "metadata": {},
   "outputs": [
    {
     "name": "stdout",
     "output_type": "stream",
     "text": [
      "<class 'pandas.core.frame.DataFrame'>\n",
      "RangeIndex: 8081 entries, 0 to 8080\n",
      "Data columns (total 21 columns):\n",
      " #   Column                                Non-Null Count  Dtype \n",
      "---  ------                                --------------  ----- \n",
      " 0   Years of Education after High School  8081 non-null   int64 \n",
      " 1   Credit Rating                         8081 non-null   object\n",
      " 2   High Credit Amt                       8081 non-null   uint8 \n",
      " 3   Low Credit Amt                        8081 non-null   uint8 \n",
      " 4   Medium Credit Amt                     8081 non-null   uint8 \n",
      " 5   Married                               8081 non-null   uint8 \n",
      " 6   Marriage Not Specified                8081 non-null   uint8 \n",
      " 7   Single                                8081 non-null   uint8 \n",
      " 8   Less than two dependents              8081 non-null   uint8 \n",
      " 9   More than two dependents              8081 non-null   uint8 \n",
      " 10  No dependent                          8081 non-null   uint8 \n",
      " 11  High Monthly Income                   8081 non-null   uint8 \n",
      " 12  Low Monthly Income                    8081 non-null   uint8 \n",
      " 13  Moderate Monthly Income               8081 non-null   uint8 \n",
      " 14  Very High Monthly Income              8081 non-null   uint8 \n",
      " 15  Very Low Monthly Income               8081 non-null   uint8 \n",
      " 16  High Monthly Expense                  8081 non-null   uint8 \n",
      " 17  Low Monthly Expense                   8081 non-null   uint8 \n",
      " 18  Moderate Monthly Expense              8081 non-null   uint8 \n",
      " 19  Very High Monthly Expense             8081 non-null   uint8 \n",
      " 20  Very Low Monthly Expense              8081 non-null   uint8 \n",
      "dtypes: int64(1), object(1), uint8(19)\n",
      "memory usage: 276.3+ KB\n"
     ]
    }
   ],
   "source": [
    "df.info()"
   ]
  },
  {
   "cell_type": "code",
   "execution_count": 12,
   "id": "d9350f3a",
   "metadata": {},
   "outputs": [
    {
     "data": {
      "text/plain": [
       "<AxesSubplot:>"
      ]
     },
     "execution_count": 12,
     "metadata": {},
     "output_type": "execute_result"
    },
    {
     "data": {
      "image/png": "[encoded data removed]",
      "text/plain": [
       "<Figure size 576x432 with 2 Axes>"
      ]
     },
     "metadata": {
      "needs_background": "light"
     },
     "output_type": "display_data"
    }
   ],
   "source": [
    "import seaborn as sns\n",
    "plt.figure(figsize=(8,6))\n",
    "sns.heatmap(df[[\"Credit Rating\",\n",
    "                \"Years of Education after High School\",\n",
    "                \"High Credit Amt\", \n",
    "                \"Low Credit Amt\", \n",
    "                \"Medium Credit Amt\",\n",
    "                \"Married\",\n",
    "                \"Single\", \n",
    "                \"Marriage Not Specified\", \n",
    "                \"Less than two dependents\", \n",
    "                \"No dependent\",\n",
    "                \"More than two dependents\",\n",
    "                \"High Monthly Income\",]].corr(),vmin=-1,vmax=1, annot=True)"
   ]
  },
  {
   "cell_type": "code",
   "execution_count": 13,
   "id": "e5213ec7",
   "metadata": {},
   "outputs": [
    {
     "data": {
      "text/plain": [
       "<AxesSubplot:>"
      ]
     },
     "execution_count": 13,
     "metadata": {},
     "output_type": "execute_result"
    },
    {
     "data": {
      "image/png": "[encoded data removed]",
      "text/plain": [
       "<Figure size 576x432 with 2 Axes>"
      ]
     },
     "metadata": {
      "needs_background": "light"
     },
     "output_type": "display_data"
    }
   ],
   "source": [
    "plt.figure(figsize=(8,6))\n",
    "sns.heatmap(df[[\"Credit Rating\",\n",
    "                \"Years of Education after High School\",\n",
    "                \"Low Monthly Income\", \n",
    "                \"Moderate Monthly Income\", \n",
    "                \"Very High Monthly Income\",\n",
    "                \"Very Low Monthly Income\", \n",
    "                \"High Monthly Expense\",\n",
    "                \"Low Monthly Expense\", \n",
    "                \"Moderate Monthly Expense\",\n",
    "                \"Very High Monthly Expense\",\n",
    "                \"Very Low Monthly Expense\",]].corr(),vmin=-1,vmax=1, annot=True)"
   ]
  },
  {
   "cell_type": "markdown",
   "id": "037043eb",
   "metadata": {},
   "source": [
    "# Logistic Regression"
   ]
  },
  {
   "cell_type": "markdown",
   "id": "388b3a4c",
   "metadata": {},
   "source": [
    "Test Logistic Regression Without Updated Thresholds"
   ]
  },
  {
   "cell_type": "code",
   "execution_count": 14,
   "id": "fa80015b",
   "metadata": {},
   "outputs": [],
   "source": [
    "from sklearn.linear_model import LogisticRegression\n",
    "from sklearn.metrics import f1_score\n",
    "from sklearn.model_selection import train_test_split\n",
    "from sklearn.metrics import confusion_matrix\n",
    "from sklearn.metrics import mean_squared_error\n",
    "from sklearn.metrics import log_loss, roc_auc_score, recall_score, precision_score, average_precision_score, f1_score, classification_report, accuracy_score, plot_roc_curve, plot_precision_recall_curve, plot_confusion_matrix"
   ]
  },
  {
   "cell_type": "code",
   "execution_count": 15,
   "id": "64753f9b",
   "metadata": {},
   "outputs": [],
   "source": [
    "y = df[\"Credit Rating\"]\n",
    "x = df[[\"Years of Education after High School\",\n",
    "        \"High Credit Amt\", \n",
    "        \"Low Credit Amt\", \n",
    "        \"Medium Credit Amt\",\n",
    "        \"Married\",\n",
    "        \"Single\", \n",
    "        \"Marriage Not Specified\", \n",
    "        \"Less than two dependents\", \n",
    "        \"No dependent\",\n",
    "        \"More than two dependents\",\n",
    "        \"High Monthly Income\",\n",
    "        \"Low Monthly Income\", \n",
    "        \"Moderate Monthly Income\", \n",
    "        \"Very High Monthly Income\",\n",
    "        \"Very Low Monthly Income\", \n",
    "        \"High Monthly Expense\",\n",
    "        \"Low Monthly Expense\", \n",
    "        \"Moderate Monthly Expense\",\n",
    "        \"Very High Monthly Expense\",\n",
    "        \"Very Low Monthly Expense\"]]"
   ]
  },
  {
   "cell_type": "code",
   "execution_count": 16,
   "id": "a3cc0033",
   "metadata": {},
   "outputs": [],
   "source": [
    "y = y.astype('int')\n",
    "x_train, x_test, y_train, y_test = train_test_split(x,y,test_size = 0.3)"
   ]
  },
  {
   "cell_type": "code",
   "execution_count": 17,
   "id": "5afb878f",
   "metadata": {},
   "outputs": [
    {
     "data": {
      "text/html": [
       "<div>\n",
       "<style scoped>\n",
       "    .dataframe tbody tr th:only-of-type {\n",
       "        vertical-align: middle;\n",
       "    }\n",
       "\n",
       "    .dataframe tbody tr th {\n",
       "        vertical-align: top;\n",
       "    }\n",
       "\n",
       "    .dataframe thead th {\n",
       "        text-align: right;\n",
       "    }\n",
       "</style>\n",
       "<table border=\"1\" class=\"dataframe\">\n",
       "  <thead>\n",
       "    <tr style=\"text-align: right;\">\n",
       "      <th></th>\n",
       "      <th>Years of Education after High School</th>\n",
       "      <th>High Credit Amt</th>\n",
       "      <th>Low Credit Amt</th>\n",
       "      <th>Medium Credit Amt</th>\n",
       "      <th>Married</th>\n",
       "      <th>Single</th>\n",
       "      <th>Marriage Not Specified</th>\n",
       "      <th>Less than two dependents</th>\n",
       "      <th>No dependent</th>\n",
       "      <th>More than two dependents</th>\n",
       "      <th>High Monthly Income</th>\n",
       "      <th>Low Monthly Income</th>\n",
       "      <th>Moderate Monthly Income</th>\n",
       "      <th>Very High Monthly Income</th>\n",
       "      <th>Very Low Monthly Income</th>\n",
       "      <th>High Monthly Expense</th>\n",
       "      <th>Low Monthly Expense</th>\n",
       "      <th>Moderate Monthly Expense</th>\n",
       "      <th>Very High Monthly Expense</th>\n",
       "      <th>Very Low Monthly Expense</th>\n",
       "    </tr>\n",
       "  </thead>\n",
       "  <tbody>\n",
       "    <tr>\n",
       "      <th>3367</th>\n",
       "      <td>3</td>\n",
       "      <td>0</td>\n",
       "      <td>1</td>\n",
       "      <td>0</td>\n",
       "      <td>0</td>\n",
       "      <td>1</td>\n",
       "      <td>0</td>\n",
       "      <td>0</td>\n",
       "      <td>1</td>\n",
       "      <td>0</td>\n",
       "      <td>0</td>\n",
       "      <td>1</td>\n",
       "      <td>0</td>\n",
       "      <td>0</td>\n",
       "      <td>0</td>\n",
       "      <td>0</td>\n",
       "      <td>0</td>\n",
       "      <td>0</td>\n",
       "      <td>0</td>\n",
       "      <td>1</td>\n",
       "    </tr>\n",
       "    <tr>\n",
       "      <th>1146</th>\n",
       "      <td>3</td>\n",
       "      <td>0</td>\n",
       "      <td>1</td>\n",
       "      <td>0</td>\n",
       "      <td>1</td>\n",
       "      <td>0</td>\n",
       "      <td>0</td>\n",
       "      <td>1</td>\n",
       "      <td>0</td>\n",
       "      <td>0</td>\n",
       "      <td>0</td>\n",
       "      <td>0</td>\n",
       "      <td>0</td>\n",
       "      <td>0</td>\n",
       "      <td>1</td>\n",
       "      <td>0</td>\n",
       "      <td>0</td>\n",
       "      <td>0</td>\n",
       "      <td>0</td>\n",
       "      <td>1</td>\n",
       "    </tr>\n",
       "    <tr>\n",
       "      <th>4741</th>\n",
       "      <td>3</td>\n",
       "      <td>0</td>\n",
       "      <td>1</td>\n",
       "      <td>0</td>\n",
       "      <td>1</td>\n",
       "      <td>0</td>\n",
       "      <td>0</td>\n",
       "      <td>1</td>\n",
       "      <td>0</td>\n",
       "      <td>0</td>\n",
       "      <td>0</td>\n",
       "      <td>0</td>\n",
       "      <td>1</td>\n",
       "      <td>0</td>\n",
       "      <td>0</td>\n",
       "      <td>0</td>\n",
       "      <td>0</td>\n",
       "      <td>0</td>\n",
       "      <td>0</td>\n",
       "      <td>1</td>\n",
       "    </tr>\n",
       "    <tr>\n",
       "      <th>2872</th>\n",
       "      <td>2</td>\n",
       "      <td>0</td>\n",
       "      <td>1</td>\n",
       "      <td>0</td>\n",
       "      <td>1</td>\n",
       "      <td>0</td>\n",
       "      <td>0</td>\n",
       "      <td>1</td>\n",
       "      <td>0</td>\n",
       "      <td>0</td>\n",
       "      <td>0</td>\n",
       "      <td>1</td>\n",
       "      <td>0</td>\n",
       "      <td>0</td>\n",
       "      <td>0</td>\n",
       "      <td>0</td>\n",
       "      <td>0</td>\n",
       "      <td>0</td>\n",
       "      <td>0</td>\n",
       "      <td>1</td>\n",
       "    </tr>\n",
       "    <tr>\n",
       "      <th>6539</th>\n",
       "      <td>1</td>\n",
       "      <td>0</td>\n",
       "      <td>1</td>\n",
       "      <td>0</td>\n",
       "      <td>1</td>\n",
       "      <td>0</td>\n",
       "      <td>0</td>\n",
       "      <td>0</td>\n",
       "      <td>1</td>\n",
       "      <td>0</td>\n",
       "      <td>0</td>\n",
       "      <td>0</td>\n",
       "      <td>0</td>\n",
       "      <td>0</td>\n",
       "      <td>1</td>\n",
       "      <td>0</td>\n",
       "      <td>1</td>\n",
       "      <td>0</td>\n",
       "      <td>0</td>\n",
       "      <td>0</td>\n",
       "    </tr>\n",
       "    <tr>\n",
       "      <th>...</th>\n",
       "      <td>...</td>\n",
       "      <td>...</td>\n",
       "      <td>...</td>\n",
       "      <td>...</td>\n",
       "      <td>...</td>\n",
       "      <td>...</td>\n",
       "      <td>...</td>\n",
       "      <td>...</td>\n",
       "      <td>...</td>\n",
       "      <td>...</td>\n",
       "      <td>...</td>\n",
       "      <td>...</td>\n",
       "      <td>...</td>\n",
       "      <td>...</td>\n",
       "      <td>...</td>\n",
       "      <td>...</td>\n",
       "      <td>...</td>\n",
       "      <td>...</td>\n",
       "      <td>...</td>\n",
       "      <td>...</td>\n",
       "    </tr>\n",
       "    <tr>\n",
       "      <th>6246</th>\n",
       "      <td>5</td>\n",
       "      <td>0</td>\n",
       "      <td>1</td>\n",
       "      <td>0</td>\n",
       "      <td>0</td>\n",
       "      <td>1</td>\n",
       "      <td>0</td>\n",
       "      <td>0</td>\n",
       "      <td>1</td>\n",
       "      <td>0</td>\n",
       "      <td>0</td>\n",
       "      <td>0</td>\n",
       "      <td>0</td>\n",
       "      <td>0</td>\n",
       "      <td>1</td>\n",
       "      <td>0</td>\n",
       "      <td>1</td>\n",
       "      <td>0</td>\n",
       "      <td>0</td>\n",
       "      <td>0</td>\n",
       "    </tr>\n",
       "    <tr>\n",
       "      <th>6105</th>\n",
       "      <td>4</td>\n",
       "      <td>0</td>\n",
       "      <td>0</td>\n",
       "      <td>1</td>\n",
       "      <td>1</td>\n",
       "      <td>0</td>\n",
       "      <td>0</td>\n",
       "      <td>1</td>\n",
       "      <td>0</td>\n",
       "      <td>0</td>\n",
       "      <td>0</td>\n",
       "      <td>0</td>\n",
       "      <td>0</td>\n",
       "      <td>1</td>\n",
       "      <td>0</td>\n",
       "      <td>0</td>\n",
       "      <td>0</td>\n",
       "      <td>0</td>\n",
       "      <td>0</td>\n",
       "      <td>1</td>\n",
       "    </tr>\n",
       "    <tr>\n",
       "      <th>4902</th>\n",
       "      <td>3</td>\n",
       "      <td>0</td>\n",
       "      <td>0</td>\n",
       "      <td>1</td>\n",
       "      <td>1</td>\n",
       "      <td>0</td>\n",
       "      <td>0</td>\n",
       "      <td>1</td>\n",
       "      <td>0</td>\n",
       "      <td>0</td>\n",
       "      <td>0</td>\n",
       "      <td>0</td>\n",
       "      <td>1</td>\n",
       "      <td>0</td>\n",
       "      <td>0</td>\n",
       "      <td>0</td>\n",
       "      <td>0</td>\n",
       "      <td>0</td>\n",
       "      <td>0</td>\n",
       "      <td>1</td>\n",
       "    </tr>\n",
       "    <tr>\n",
       "      <th>4512</th>\n",
       "      <td>3</td>\n",
       "      <td>0</td>\n",
       "      <td>0</td>\n",
       "      <td>1</td>\n",
       "      <td>1</td>\n",
       "      <td>0</td>\n",
       "      <td>0</td>\n",
       "      <td>0</td>\n",
       "      <td>1</td>\n",
       "      <td>0</td>\n",
       "      <td>0</td>\n",
       "      <td>1</td>\n",
       "      <td>0</td>\n",
       "      <td>0</td>\n",
       "      <td>0</td>\n",
       "      <td>0</td>\n",
       "      <td>0</td>\n",
       "      <td>0</td>\n",
       "      <td>0</td>\n",
       "      <td>1</td>\n",
       "    </tr>\n",
       "    <tr>\n",
       "      <th>7490</th>\n",
       "      <td>2</td>\n",
       "      <td>0</td>\n",
       "      <td>1</td>\n",
       "      <td>0</td>\n",
       "      <td>1</td>\n",
       "      <td>0</td>\n",
       "      <td>0</td>\n",
       "      <td>1</td>\n",
       "      <td>0</td>\n",
       "      <td>0</td>\n",
       "      <td>0</td>\n",
       "      <td>1</td>\n",
       "      <td>0</td>\n",
       "      <td>0</td>\n",
       "      <td>0</td>\n",
       "      <td>0</td>\n",
       "      <td>1</td>\n",
       "      <td>0</td>\n",
       "      <td>0</td>\n",
       "      <td>0</td>\n",
       "    </tr>\n",
       "  </tbody>\n",
       "</table>\n",
       "<p>2425 rows × 20 columns</p>\n",
       "</div>"
      ],
      "text/plain": [
       "      Years of Education after High School  High Credit Amt  Low Credit Amt  \\\n",
       "3367                                     3                0               1   \n",
       "1146                                     3                0               1   \n",
       "4741                                     3                0               1   \n",
       "2872                                     2                0               1   \n",
       "6539                                     1                0               1   \n",
       "...                                    ...              ...             ...   \n",
       "6246                                     5                0               1   \n",
       "6105                                     4                0               0   \n",
       "4902                                     3                0               0   \n",
       "4512                                     3                0               0   \n",
       "7490                                     2                0               1   \n",
       "\n",
       "      Medium Credit Amt  Married  Single  Marriage Not Specified  \\\n",
       "3367                  0        0       1                       0   \n",
       "1146                  0        1       0                       0   \n",
       "4741                  0        1       0                       0   \n",
       "2872                  0        1       0                       0   \n",
       "6539                  0        1       0                       0   \n",
       "...                 ...      ...     ...                     ...   \n",
       "6246                  0        0       1                       0   \n",
       "6105                  1        1       0                       0   \n",
       "4902                  1        1       0                       0   \n",
       "4512                  1        1       0                       0   \n",
       "7490                  0        1       0                       0   \n",
       "\n",
       "      Less than two dependents  No dependent  More than two dependents  \\\n",
       "3367                         0             1                         0   \n",
       "1146                         1             0                         0   \n",
       "4741                         1             0                         0   \n",
       "2872                         1             0                         0   \n",
       "6539                         0             1                         0   \n",
       "...                        ...           ...                       ...   \n",
       "6246                         0             1                         0   \n",
       "6105                         1             0                         0   \n",
       "4902                         1             0                         0   \n",
       "4512                         0             1                         0   \n",
       "7490                         1             0                         0   \n",
       "\n",
       "      High Monthly Income  Low Monthly Income  Moderate Monthly Income  \\\n",
       "3367                    0                   1                        0   \n",
       "1146                    0                   0                        0   \n",
       "4741                    0                   0                        1   \n",
       "2872                    0                   1                        0   \n",
       "6539                    0                   0                        0   \n",
       "...                   ...                 ...                      ...   \n",
       "6246                    0                   0                        0   \n",
       "6105                    0                   0                        0   \n",
       "4902                    0                   0                        1   \n",
       "4512                    0                   1                        0   \n",
       "7490                    0                   1                        0   \n",
       "\n",
       "      Very High Monthly Income  Very Low Monthly Income  High Monthly Expense  \\\n",
       "3367                         0                        0                     0   \n",
       "1146                         0                        1                     0   \n",
       "4741                         0                        0                     0   \n",
       "2872                         0                        0                     0   \n",
       "6539                         0                        1                     0   \n",
       "...                        ...                      ...                   ...   \n",
       "6246                         0                        1                     0   \n",
       "6105                         1                        0                     0   \n",
       "4902                         0                        0                     0   \n",
       "4512                         0                        0                     0   \n",
       "7490                         0                        0                     0   \n",
       "\n",
       "      Low Monthly Expense  Moderate Monthly Expense  \\\n",
       "3367                    0                         0   \n",
       "1146                    0                         0   \n",
       "4741                    0                         0   \n",
       "2872                    0                         0   \n",
       "6539                    1                         0   \n",
       "...                   ...                       ...   \n",
       "6246                    1                         0   \n",
       "6105                    0                         0   \n",
       "4902                    0                         0   \n",
       "4512                    0                         0   \n",
       "7490                    1                         0   \n",
       "\n",
       "      Very High Monthly Expense  Very Low Monthly Expense  \n",
       "3367                          0                         1  \n",
       "1146                          0                         1  \n",
       "4741                          0                         1  \n",
       "2872                          0                         1  \n",
       "6539                          0                         0  \n",
       "...                         ...                       ...  \n",
       "6246                          0                         0  \n",
       "6105                          0                         1  \n",
       "4902                          0                         1  \n",
       "4512                          0                         1  \n",
       "7490                          0                         0  \n",
       "\n",
       "[2425 rows x 20 columns]"
      ]
     },
     "execution_count": 17,
     "metadata": {},
     "output_type": "execute_result"
    }
   ],
   "source": [
    "x_test"
   ]
  },
  {
   "cell_type": "code",
   "execution_count": 18,
   "id": "9af31ad7",
   "metadata": {},
   "outputs": [
    {
     "data": {
      "text/plain": [
       "(5656, 20)"
      ]
     },
     "execution_count": 18,
     "metadata": {},
     "output_type": "execute_result"
    }
   ],
   "source": [
    "x_train.shape"
   ]
  },
  {
   "cell_type": "code",
   "execution_count": 19,
   "id": "13b7bff6",
   "metadata": {},
   "outputs": [
    {
     "data": {
      "text/plain": [
       "(2425, 20)"
      ]
     },
     "execution_count": 19,
     "metadata": {},
     "output_type": "execute_result"
    }
   ],
   "source": [
    "x_test.shape"
   ]
  },
  {
   "cell_type": "code",
   "execution_count": 20,
   "id": "22a90b9b",
   "metadata": {},
   "outputs": [
    {
     "data": {
      "text/plain": [
       "(5656,)"
      ]
     },
     "execution_count": 20,
     "metadata": {},
     "output_type": "execute_result"
    }
   ],
   "source": [
    "y_train.shape"
   ]
  },
  {
   "cell_type": "code",
   "execution_count": 21,
   "id": "e97cac76",
   "metadata": {},
   "outputs": [
    {
     "data": {
      "text/plain": [
       "(2425,)"
      ]
     },
     "execution_count": 21,
     "metadata": {},
     "output_type": "execute_result"
    }
   ],
   "source": [
    "y_test.shape"
   ]
  },
  {
   "cell_type": "code",
   "execution_count": 22,
   "id": "f1c33ad1",
   "metadata": {},
   "outputs": [
    {
     "data": {
      "text/html": [
       "<style>#sk-container-id-1 {color: black;background-color: white;}#sk-container-id-1 pre{padding: 0;}#sk-container-id-1 div.sk-toggleable {background-color: white;}#sk-container-id-1 label.sk-toggleable__label {cursor: pointer;display: block;width: 100%;margin-bottom: 0;padding: 0.3em;box-sizing: border-box;text-align: center;}#sk-container-id-1 label.sk-toggleable__label-arrow:before {content: \"▸\";float: left;margin-right: 0.25em;color: #696969;}#sk-container-id-1 label.sk-toggleable__label-arrow:hover:before {color: black;}#sk-container-id-1 div.sk-estimator:hover label.sk-toggleable__label-arrow:before {color: black;}#sk-container-id-1 div.sk-toggleable__content {max-height: 0;max-width: 0;overflow: hidden;text-align: left;background-color: #f0f8ff;}#sk-container-id-1 div.sk-toggleable__content pre {margin: 0.2em;color: black;border-radius: 0.25em;background-color: #f0f8ff;}#sk-container-id-1 input.sk-toggleable__control:checked~div.sk-toggleable__content {max-height: 200px;max-width: 100%;overflow: auto;}#sk-container-id-1 input.sk-toggleable__control:checked~label.sk-toggleable__label-arrow:before {content: \"▾\";}#sk-container-id-1 div.sk-estimator input.sk-toggleable__control:checked~label.sk-toggleable__label {background-color: #d4ebff;}#sk-container-id-1 div.sk-label input.sk-toggleable__control:checked~label.sk-toggleable__label {background-color: #d4ebff;}#sk-container-id-1 input.sk-hidden--visually {border: 0;clip: rect(1px 1px 1px 1px);clip: rect(1px, 1px, 1px, 1px);height: 1px;margin: -1px;overflow: hidden;padding: 0;position: absolute;width: 1px;}#sk-container-id-1 div.sk-estimator {font-family: monospace;background-color: #f0f8ff;border: 1px dotted black;border-radius: 0.25em;box-sizing: border-box;margin-bottom: 0.5em;}#sk-container-id-1 div.sk-estimator:hover {background-color: #d4ebff;}#sk-container-id-1 div.sk-parallel-item::after {content: \"\";width: 100%;border-bottom: 1px solid gray;flex-grow: 1;}#sk-container-id-1 div.sk-label:hover label.sk-toggleable__label {background-color: #d4ebff;}#sk-container-id-1 div.sk-serial::before {content: \"\";position: absolute;border-left: 1px solid gray;box-sizing: border-box;top: 0;bottom: 0;left: 50%;z-index: 0;}#sk-container-id-1 div.sk-serial {display: flex;flex-direction: column;align-items: center;background-color: white;padding-right: 0.2em;padding-left: 0.2em;position: relative;}#sk-container-id-1 div.sk-item {position: relative;z-index: 1;}#sk-container-id-1 div.sk-parallel {display: flex;align-items: stretch;justify-content: center;background-color: white;position: relative;}#sk-container-id-1 div.sk-item::before, #sk-container-id-1 div.sk-parallel-item::before {content: \"\";position: absolute;border-left: 1px solid gray;box-sizing: border-box;top: 0;bottom: 0;left: 50%;z-index: -1;}#sk-container-id-1 div.sk-parallel-item {display: flex;flex-direction: column;z-index: 1;position: relative;background-color: white;}#sk-container-id-1 div.sk-parallel-item:first-child::after {align-self: flex-end;width: 50%;}#sk-container-id-1 div.sk-parallel-item:last-child::after {align-self: flex-start;width: 50%;}#sk-container-id-1 div.sk-parallel-item:only-child::after {width: 0;}#sk-container-id-1 div.sk-dashed-wrapped {border: 1px dashed gray;margin: 0 0.4em 0.5em 0.4em;box-sizing: border-box;padding-bottom: 0.4em;background-color: white;}#sk-container-id-1 div.sk-label label {font-family: monospace;font-weight: bold;display: inline-block;line-height: 1.2em;}#sk-container-id-1 div.sk-label-container {text-align: center;}#sk-container-id-1 div.sk-container {/* jupyter's `normalize.less` sets `[hidden] { display: none; }` but bootstrap.min.css set `[hidden] { display: none !important; }` so we also need the `!important` here to be able to override the default hidden behavior on the sphinx rendered scikit-learn.org. See: https://github.com/scikit-learn/scikit-learn/issues/21755 */display: inline-block !important;position: relative;}#sk-container-id-1 div.sk-text-repr-fallback {display: none;}</style><div id=\"sk-container-id-1\" class=\"sk-top-container\"><div class=\"sk-text-repr-fallback\"><pre>LogisticRegression()</pre><b>In a Jupyter environment, please rerun this cell to show the HTML representation or trust the notebook. <br />On GitHub, the HTML representation is unable to render, please try loading this page with nbviewer.org.</b></div><div class=\"sk-container\" hidden><div class=\"sk-item\"><div class=\"sk-estimator sk-toggleable\"><input class=\"sk-toggleable__control sk-hidden--visually\" id=\"sk-estimator-id-1\" type=\"checkbox\" checked><label for=\"sk-estimator-id-1\" class=\"sk-toggleable__label sk-toggleable__label-arrow\">LogisticRegression</label><div class=\"sk-toggleable__content\"><pre>LogisticRegression()</pre></div></div></div></div></div>"
      ],
      "text/plain": [
       "LogisticRegression()"
      ]
     },
     "execution_count": 22,
     "metadata": {},
     "output_type": "execute_result"
    }
   ],
   "source": [
    "log_reg = LogisticRegression()\n",
    "log_reg.fit(x_train, y_train)"
   ]
  },
  {
   "cell_type": "code",
   "execution_count": 23,
   "id": "4936a5b5",
   "metadata": {},
   "outputs": [
    {
     "data": {
      "text/plain": [
       "3367    1\n",
       "1146    1\n",
       "4741    0\n",
       "2872    1\n",
       "6539    1\n",
       "       ..\n",
       "6246    0\n",
       "6105    0\n",
       "4902    1\n",
       "4512    1\n",
       "7490    1\n",
       "Name: Credit Rating, Length: 2425, dtype: int64"
      ]
     },
     "execution_count": 23,
     "metadata": {},
     "output_type": "execute_result"
    }
   ],
   "source": [
    "y_test"
   ]
  },
  {
   "cell_type": "code",
   "execution_count": 43,
   "id": "5d47a400",
   "metadata": {},
   "outputs": [
    {
     "data": {
      "text/plain": [
       "Index(['Years of Education after High School', 'Credit Rating',\n",
       "       'High Credit Amt', 'Low Credit Amt', 'Medium Credit Amt', 'Married',\n",
       "       'Marriage Not Specified', 'Single', 'Less than two dependents',\n",
       "       'More than two dependents', 'No dependent', 'High Monthly Income',\n",
       "       'Low Monthly Income', 'Moderate Monthly Income',\n",
       "       'Very High Monthly Income', 'Very Low Monthly Income',\n",
       "       'High Monthly Expense', 'Low Monthly Expense',\n",
       "       'Moderate Monthly Expense', 'Very High Monthly Expense',\n",
       "       'Very Low Monthly Expense'],\n",
       "      dtype='object')"
      ]
     },
     "execution_count": 43,
     "metadata": {},
     "output_type": "execute_result"
    }
   ],
   "source": [
    "df.columns"
   ]
  },
  {
   "cell_type": "code",
   "execution_count": 24,
   "id": "5387f0a6",
   "metadata": {},
   "outputs": [
    {
     "name": "stdout",
     "output_type": "stream",
     "text": [
      "[[ 0.06974361  0.50899689 -0.14994159 -0.36153077 -0.0827802   0.13178954\n",
      "  -0.0514848   0.03047803 -0.11206033  0.07910684 -0.02221649 -0.22121007\n",
      "  -0.16741099  0.39063612  0.01772598  0.38932061  0.21148693 -0.11085365\n",
      "  -0.65182688  0.15939753]]\n"
     ]
    }
   ],
   "source": [
    "print(log_reg.coef_)"
   ]
  },
  {
   "cell_type": "code",
   "execution_count": 25,
   "id": "368b78bf",
   "metadata": {},
   "outputs": [
    {
     "name": "stdout",
     "output_type": "stream",
     "text": [
      "[1.81858469]\n"
     ]
    }
   ],
   "source": [
    "print(log_reg.intercept_)"
   ]
  },
  {
   "cell_type": "code",
   "execution_count": 26,
   "id": "234c5631",
   "metadata": {},
   "outputs": [
    {
     "data": {
      "text/plain": [
       "array([[0.13754989, 0.86245011],\n",
       "       [0.11892023, 0.88107977],\n",
       "       [0.13972712, 0.86027288],\n",
       "       ...,\n",
       "       [0.167149  , 0.832851  ],\n",
       "       [0.19629216, 0.80370784],\n",
       "       [0.14853914, 0.85146086]])"
      ]
     },
     "execution_count": 26,
     "metadata": {},
     "output_type": "execute_result"
    }
   ],
   "source": [
    "y_pred = log_reg.predict_proba(x_test)\n",
    "y_pred"
   ]
  },
  {
   "cell_type": "code",
   "execution_count": 27,
   "id": "aab18491",
   "metadata": {},
   "outputs": [
    {
     "data": {
      "text/plain": [
       "0.7926903296715324"
      ]
     },
     "execution_count": 27,
     "metadata": {},
     "output_type": "execute_result"
    }
   ],
   "source": [
    "true_values = y\n",
    "predictions = log_reg.predict(x)\n",
    "f1_score(true_values,predictions,average='weighted')"
   ]
  },
  {
   "cell_type": "code",
   "execution_count": 28,
   "id": "fe15fd70",
   "metadata": {},
   "outputs": [
    {
     "data": {
      "text/plain": [
       "array([1, 1, 1, ..., 1, 1, 1])"
      ]
     },
     "execution_count": 28,
     "metadata": {},
     "output_type": "execute_result"
    }
   ],
   "source": [
    "predictions"
   ]
  },
  {
   "cell_type": "code",
   "execution_count": 29,
   "id": "0e2ffdd4",
   "metadata": {},
   "outputs": [
    {
     "data": {
      "text/plain": [
       "0.7926903296715324"
      ]
     },
     "execution_count": 29,
     "metadata": {},
     "output_type": "execute_result"
    }
   ],
   "source": [
    "# Constructing the Lasso model\n",
    "# l1 indicates lasso\n",
    "model_lasso = LogisticRegression(penalty = 'l1',random_state=0,max_iter = 1000, solver = 'liblinear').fit(x,y)\n",
    "true_values_lasso = y\n",
    "lasso = model_lasso.predict(x)\n",
    "lasso_f1score = f1_score(true_values_lasso,lasso,average='weighted')\n",
    "lasso_f1score"
   ]
  },
  {
   "cell_type": "code",
   "execution_count": 30,
   "id": "3f9ba796",
   "metadata": {},
   "outputs": [
    {
     "data": {
      "text/plain": [
       "0.7926903296715324"
      ]
     },
     "execution_count": 30,
     "metadata": {},
     "output_type": "execute_result"
    }
   ],
   "source": [
    "# Constructing Elastic Net Regression\n",
    "model_elasticnet = LogisticRegression(l1_ratio = 0.5, penalty = 'elasticnet',\n",
    "                                      random_state=0,max_iter = 1000,solver = 'saga').fit(x,y)\n",
    "true_values_elasticnet = y\n",
    "elasticnet = model_elasticnet.predict(x)\n",
    "elasticnet_f1score = f1_score(true_values_elasticnet,elasticnet,average='weighted')\n",
    "elasticnet_f1score"
   ]
  },
  {
   "cell_type": "code",
   "execution_count": 31,
   "id": "c37aca85",
   "metadata": {},
   "outputs": [
    {
     "data": {
      "text/plain": [
       "<AxesSubplot:>"
      ]
     },
     "execution_count": 31,
     "metadata": {},
     "output_type": "execute_result"
    },
    {
     "data": {
      "image/png": "[encoded data removed]",
      "text/plain": [
       "<Figure size 432x288 with 1 Axes>"
      ]
     },
     "metadata": {
      "needs_background": "light"
     },
     "output_type": "display_data"
    }
   ],
   "source": [
    "df['Credit Rating'].value_counts().plot(kind='bar')\n",
    "\n",
    "# There are 7 declined applications and 5 approved applications"
   ]
  },
  {
   "cell_type": "code",
   "execution_count": 32,
   "id": "12a3e6de",
   "metadata": {},
   "outputs": [
    {
     "data": {
      "text/plain": [
       "Text(33.0, 0.5, 'True Values')"
      ]
     },
     "execution_count": 32,
     "metadata": {},
     "output_type": "execute_result"
    },
    {
     "data": {
      "image/png": "[encoded data removed]",
      "text/plain": [
       "<Figure size 432x288 with 2 Axes>"
      ]
     },
     "metadata": {
      "needs_background": "light"
     },
     "output_type": "display_data"
    }
   ],
   "source": [
    "#plot confusion matrix\n",
    "sns.heatmap(confusion_matrix(true_values, predictions), annot=True)\n",
    "plt.xlabel('Prediction')\n",
    "plt.ylabel('True Values')"
   ]
  },
  {
   "cell_type": "code",
   "execution_count": 48,
   "id": "a13f3059",
   "metadata": {},
   "outputs": [
    {
     "name": "stdout",
     "output_type": "stream",
     "text": [
      "0 1146 0 6935\n"
     ]
    }
   ],
   "source": [
    "tn, fp, fn, tp = confusion_matrix(true_values, predictions).ravel()\n",
    "print(tn,fp,fn,tp)"
   ]
  },
  {
   "cell_type": "code",
   "execution_count": 52,
   "id": "386afa4d",
   "metadata": {},
   "outputs": [
    {
     "name": "stdout",
     "output_type": "stream",
     "text": [
      "0.858185868085633\n",
      "1.0\n"
     ]
    }
   ],
   "source": [
    "print (precision_score(true_values,predictions))\n",
    "print (recall_score(true_values,predictions))"
   ]
  },
  {
   "cell_type": "code",
   "execution_count": 33,
   "id": "0376716f",
   "metadata": {},
   "outputs": [
    {
     "name": "stdout",
     "output_type": "stream",
     "text": [
      "Roc_auc_score for Logistic Regression:  0.5296560161820423\n",
      "Roc_auc_score for Lasso Regression:  0.5616594095632176\n",
      "Roc_auc_score for Net Elastic Regression:  0.5595515312055448\n"
     ]
    }
   ],
   "source": [
    "from sklearn.tree import DecisionTreeClassifier\n",
    "from sklearn.linear_model import LogisticRegression\n",
    "from sklearn.metrics import roc_curve, roc_auc_score\n",
    "\n",
    "y_score1 = log_reg.predict_proba(x_test)[:,1]\n",
    "y_score2 = model_lasso.predict_proba(x_test)[:,1]\n",
    "y_score3 = model_elasticnet.predict_proba(x_test)[:,1]\n",
    "\n",
    "false_positive_rate1, true_positive_rate1, threshold1 = roc_curve(y_test, y_score1)\n",
    "false_positive_rate2, true_positive_rate2, threshold2 = roc_curve(y_test, y_score2)\n",
    "false_positive_rate3, true_positive_rate3, threshold3 = roc_curve(y_test, y_score3)\n",
    "\n",
    "print('Roc_auc_score for Logistic Regression: ', roc_auc_score(y_test, y_score1))\n",
    "print('Roc_auc_score for Lasso Regression: ', roc_auc_score(y_test, y_score2))\n",
    "print('Roc_auc_score for Net Elastic Regression: ', roc_auc_score(y_test, y_score3))"
   ]
  },
  {
   "cell_type": "code",
   "execution_count": 34,
   "id": "ee4c09b1",
   "metadata": {},
   "outputs": [
    {
     "data": {
      "image/png": "[encoded data removed]",
      "text/plain": [
       "<Figure size 720x720 with 1 Axes>"
      ]
     },
     "metadata": {
      "needs_background": "light"
     },
     "output_type": "display_data"
    }
   ],
   "source": [
    "plt.subplots(1, figsize=(10,10))\n",
    "plt.title('Receiver Operating Characteristic - Logistic Regression')\n",
    "plt.plot(false_positive_rate1, true_positive_rate1)\n",
    "plt.plot([0, 1], ls=\"--\")\n",
    "plt.plot([0, 0], [1, 0] , c=\".7\"), plt.plot([1, 1] , c=\".7\")\n",
    "plt.ylabel('True Positive Rate')\n",
    "plt.xlabel('False Positive Rate')\n",
    "plt.show()"
   ]
  },
  {
   "cell_type": "code",
   "execution_count": 35,
   "id": "65c4ffb3",
   "metadata": {},
   "outputs": [
    {
     "data": {
      "image/png": "[encoded data removed]",
      "text/plain": [
       "<Figure size 720x720 with 1 Axes>"
      ]
     },
     "metadata": {
      "needs_background": "light"
     },
     "output_type": "display_data"
    }
   ],
   "source": [
    "plt.subplots(1, figsize=(10,10))\n",
    "plt.title('Receiver Operating Characteristic - Lasso Regression')\n",
    "plt.plot(false_positive_rate2, true_positive_rate2)\n",
    "plt.plot([0, 1], ls=\"--\")\n",
    "plt.plot([0, 0], [1, 0] , c=\".7\"), plt.plot([1, 1] , c=\".7\")\n",
    "plt.ylabel('True Positive Rate')\n",
    "plt.xlabel('False Positive Rate')\n",
    "plt.show()"
   ]
  },
  {
   "cell_type": "code",
   "execution_count": 36,
   "id": "7c85e08d",
   "metadata": {},
   "outputs": [
    {
     "data": {
      "image/png": "[encoded data removed]",
      "text/plain": [
       "<Figure size 720x720 with 1 Axes>"
      ]
     },
     "metadata": {
      "needs_background": "light"
     },
     "output_type": "display_data"
    }
   ],
   "source": [
    "plt.subplots(1, figsize=(10,10))\n",
    "plt.title('Receiver Operating Characteristic - Net Elastic Regression')\n",
    "plt.plot(false_positive_rate3, true_positive_rate3)\n",
    "plt.plot([0, 1], ls=\"--\")\n",
    "plt.plot([0, 0], [1, 0] , c=\".7\"), plt.plot([1, 1] , c=\".7\")\n",
    "plt.ylabel('True Positive Rate')\n",
    "plt.xlabel('False Positive Rate')\n",
    "plt.show()"
   ]
  },
  {
   "cell_type": "markdown",
   "id": "8e4aba6d",
   "metadata": {},
   "source": [
    "# Updated Logistic Regression with Thresholds (Credit Approval System)"
   ]
  },
  {
   "cell_type": "markdown",
   "id": "45b73a81",
   "metadata": {},
   "source": [
    "Logistic Regression"
   ]
  },
  {
   "cell_type": "code",
   "execution_count": 37,
   "id": "4380dc74",
   "metadata": {
    "scrolled": true
   },
   "outputs": [],
   "source": [
    "approved = 0\n",
    "declined = 0\n",
    "\n",
    "for i in range(len(x_test)):\n",
    "    if df[\"High Credit Amt\"].values[i] == 1:\n",
    "        log_reg = LogisticRegression()\n",
    "        log_reg.fit(x_train, y_train)\n",
    "        y_pred = (log_reg.predict_proba(x_test))\n",
    "        #print (\"high\")\n",
    "        #print (log_reg.predict_proba(x_test)[i])\n",
    "        if (y_pred[i][1:2]) >= 0.2:\n",
    "            approved += 1\n",
    "        else:\n",
    "            declined += 1        \n",
    "    elif df[\"Medium Credit Amt\"].values[i] == 1:\n",
    "        log_reg = LogisticRegression()\n",
    "        log_reg.fit(x_train, y_train)\n",
    "        y_pred = (log_reg.predict_proba(x_test))\n",
    "        #print (\"medium\")\n",
    "        #print (log_reg.predict_proba(x_test)[i])\n",
    "        if (y_pred[i][1:2]) >= 0.5:\n",
    "            approved += 1\n",
    "        else:\n",
    "            declined += 1 \n",
    "    elif df[\"Low Credit Amt\"].values[i] == 1:\n",
    "        log_reg = LogisticRegression()\n",
    "        log_reg.fit(x_train, y_train)\n",
    "        y_pred = (log_reg.predict_proba(x_test))\n",
    "        #print (\"low\")\n",
    "        #print (log_reg.predict_proba(x_test)[i])\n",
    "        if (y_pred[i][1:2]) >= 0.8:\n",
    "            approved += 1\n",
    "        else:\n",
    "            declined += 1 \n",
    "    else:\n",
    "        print (\"Error\")"
   ]
  },
  {
   "cell_type": "code",
   "execution_count": 38,
   "id": "fc4b32a8",
   "metadata": {},
   "outputs": [
    {
     "data": {
      "image/png": "[encoded data removed]",
      "text/plain": [
       "<Figure size 576x432 with 1 Axes>"
      ]
     },
     "metadata": {
      "needs_background": "light"
     },
     "output_type": "display_data"
    }
   ],
   "source": [
    "import matplotlib.pyplot as plt\n",
    "data = {\"Approved\": approved, \"Declined\": declined}\n",
    "title = list(data.keys())\n",
    "values = list(data.values())\n",
    "fig = plt.figure(figsize = (8,6))\n",
    "\n",
    "plt.bar(title, values, color ='darkblue', width = 0.2)\n",
    "plt.xlabel(\"Credit Approval\")\n",
    "plt.ylabel(\"No. of Applications\")\n",
    "plt.title(\"Credit Approval System\")\n",
    "plt.show()"
   ]
  },
  {
   "cell_type": "markdown",
   "id": "32547f13",
   "metadata": {},
   "source": [
    "Lasso Regression"
   ]
  },
  {
   "cell_type": "code",
   "execution_count": 39,
   "id": "4362ca9c",
   "metadata": {},
   "outputs": [],
   "source": [
    "approved = 0\n",
    "declined = 0\n",
    "\n",
    "for i in range(len(x_test)):\n",
    "    if df[\"High Credit Amt\"].values[i] == 1:\n",
    "        model_lasso = LogisticRegression(penalty = 'l1',random_state=0,max_iter = 1000, solver = 'liblinear').fit(x,y)\n",
    "        true_values_lasso = y\n",
    "        lasso = (model_lasso.predict_proba(x_test))\n",
    "        #print (model_lasso.predict_proba(x_test)[i])\n",
    "        if (lasso[i][1:2]) >= 0.2:\n",
    "            approved += 1\n",
    "        else:\n",
    "            declined += 1        \n",
    "    elif df[\"Medium Credit Amt\"].values[i] == 1:\n",
    "        model_lasso = LogisticRegression(penalty = 'l1',random_state=0,max_iter = 1000, solver = 'liblinear').fit(x,y)\n",
    "        true_values_lasso = y\n",
    "        lasso = (model_lasso.predict_proba(x_test))\n",
    "        #print (model_lasso.predict_proba(x_test)[i])\n",
    "        if (lasso[i][1:2]) >= 0.5:\n",
    "            approved += 1\n",
    "        else:\n",
    "            declined += 1    \n",
    "    elif df[\"Low Credit Amt\"].values[i] == 1:\n",
    "        model_lasso = LogisticRegression(penalty = 'l1',random_state=0,max_iter = 1000, solver = 'liblinear').fit(x,y)\n",
    "        true_values_lasso = y\n",
    "        lasso = (model_lasso.predict_proba(x_test))\n",
    "        #print (model_lasso.predict_proba(x_test)[i])\n",
    "        if (lasso[i][1:2]) >= 0.8:\n",
    "            approved += 1\n",
    "        else:\n",
    "            declined += 1    \n",
    "    else:\n",
    "        print (\"Error\")"
   ]
  },
  {
   "cell_type": "code",
   "execution_count": 40,
   "id": "8bba6371",
   "metadata": {},
   "outputs": [
    {
     "data": {
      "image/png": "[encoded data removed]",
      "text/plain": [
       "<Figure size 576x432 with 1 Axes>"
      ]
     },
     "metadata": {
      "needs_background": "light"
     },
     "output_type": "display_data"
    }
   ],
   "source": [
    "data = {\"Approved\": approved, \"Declined\": declined}\n",
    "title = list(data.keys())\n",
    "values = list(data.values())\n",
    "fig = plt.figure(figsize = (8,6))\n",
    "\n",
    "plt.bar(title, values, color ='darkblue', width = 0.2)\n",
    "plt.xlabel(\"Credit Approval\")\n",
    "plt.ylabel(\"No. of Applications\")\n",
    "plt.title(\"Credit Approval System\")\n",
    "plt.show()"
   ]
  },
  {
   "cell_type": "markdown",
   "id": "9f5e7164",
   "metadata": {},
   "source": [
    "Elastic Net Regualization"
   ]
  },
  {
   "cell_type": "code",
   "execution_count": 41,
   "id": "e7c89a4f",
   "metadata": {},
   "outputs": [],
   "source": [
    "approved = 0\n",
    "declined = 0\n",
    "\n",
    "for i in range(len(x_test)):\n",
    "    if df[\"High Credit Amt\"].values[i] == 1:\n",
    "        model_elasticnet = LogisticRegression(l1_ratio = 0.5, penalty = 'elasticnet',\n",
    "                                      random_state=0,max_iter = 1000,solver = 'saga').fit(x,y)\n",
    "        true_values_elasticnet = y\n",
    "        elasticnet = (model_elasticnet.predict_proba(x_test))\n",
    "        #print (model_elasticnet.predict_proba(x_test)[i])\n",
    "        if (elasticnet[i][1:2]) >= 0.2:\n",
    "            approved += 1\n",
    "        else:\n",
    "            declined += 1        \n",
    "    elif df[\"Medium Credit Amt\"].values[i] == 1:\n",
    "        model_elasticnet = LogisticRegression(l1_ratio = 0.5, penalty = 'elasticnet',\n",
    "                                      random_state=0,max_iter = 1000,solver = 'saga').fit(x,y)\n",
    "        true_values_elasticnet = y\n",
    "        elasticnet = (model_elasticnet.predict_proba(x_test))\n",
    "        #print (model_elasticnet.predict_proba(x_test)[i])\n",
    "        if (elasticnet[i][1:2]) >= 0.5:\n",
    "            approved += 1\n",
    "        else:\n",
    "            declined += 1     \n",
    "    elif df[\"Low Credit Amt\"].values[i] == 1:\n",
    "        model_elasticnet = LogisticRegression(l1_ratio = 0.5, penalty = 'elasticnet',\n",
    "                                      random_state=0,max_iter = 1000,solver = 'saga').fit(x,y)\n",
    "        true_values_elasticnet = y\n",
    "        elasticnet = (model_elasticnet.predict_proba(x_test))\n",
    "        #print (model_elasticnet.predict_proba(x_test)[i])\n",
    "        if (elasticnet[i][1:2]) >= 0.8:\n",
    "            approved += 1\n",
    "        else:\n",
    "            declined += 1     \n",
    "    else:\n",
    "        print (\"Error\")"
   ]
  },
  {
   "cell_type": "code",
   "execution_count": 42,
   "id": "00115c8f",
   "metadata": {},
   "outputs": [
    {
     "data": {
      "image/png": "[encoded data removed]",
      "text/plain": [
       "<Figure size 576x432 with 1 Axes>"
      ]
     },
     "metadata": {
      "needs_background": "light"
     },
     "output_type": "display_data"
    }
   ],
   "source": [
    "data = {\"Approved\": approved, \"Declined\": declined}\n",
    "title = list(data.keys())\n",
    "values = list(data.values())\n",
    "fig = plt.figure(figsize = (8,6))\n",
    "\n",
    "plt.bar(title, values, color ='darkblue', width = 0.2)\n",
    "plt.xlabel(\"Credit Approval\")\n",
    "plt.ylabel(\"No. of Applications\")\n",
    "plt.title(\"Credit Approval System\")\n",
    "plt.show()"
   ]
  }
 ],
 "metadata": {
  "kernelspec": {
   "display_name": "Python 3 (ipykernel)",
   "language": "python",
   "name": "python3"
  },
  "language_info": {
   "codemirror_mode": {
    "name": "ipython",
    "version": 3
   },
   "file_extension": ".py",
   "mimetype": "text/x-python",
   "name": "python",
   "nbconvert_exporter": "python",
   "pygments_lexer": "ipython3",
   "version": "3.9.7"
  }
 },
 "nbformat": 4,
 "nbformat_minor": 5
}
